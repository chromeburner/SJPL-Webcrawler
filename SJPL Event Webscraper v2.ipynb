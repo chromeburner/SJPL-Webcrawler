{
 "cells": [
  {
   "cell_type": "code",
   "execution_count": null,
   "metadata": {},
   "outputs": [],
   "source": [
    "#pull the website data\n",
    "import requests\n",
    "url = 'https://sjpl.bibliocommons.com/v2/events?locations=10'\n",
    "\n",
    "#making the get request\n",
    "response = requests.get(url)\n",
    "\n",
    "#parsing the data\n",
    "from bs4 import BeautifulSoup\n",
    "soup = BeautifulSoup(response.text, 'html.parser')\n",
    "\n",
    "name = soup.findAll('div', attrs='cp-event-title')\n",
    "date = soup.findAll('div', attrs='cp-event-date')\n",
    "location = soup.findAll('div', attrs='cp-event-location')\n",
    "description = soup.findAll('div', attrs='cp-event-description')\n",
    "\n",
    "for name, date, location, description in zip(name, date, location, description):\n",
    "    print(name.text + date.text + location.text + description.text)\n"
   ]
  }
 ],
 "metadata": {
  "kernelspec": {
   "display_name": "Python 3",
   "language": "python",
   "name": "python3"
  },
  "language_info": {
   "codemirror_mode": {
    "name": "ipython",
    "version": 3
   },
   "file_extension": ".py",
   "mimetype": "text/x-python",
   "name": "python",
   "nbconvert_exporter": "python",
   "pygments_lexer": "ipython3",
   "version": "3.11.3"
  },
  "orig_nbformat": 4
 },
 "nbformat": 4,
 "nbformat_minor": 2
}
