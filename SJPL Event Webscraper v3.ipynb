{
 "cells": [
  {
   "cell_type": "code",
   "execution_count": 14,
   "metadata": {},
   "outputs": [
    {
     "name": "stdout",
     "output_type": "stream",
     "text": [
      "['Indoor Family Storytime10:15 AM – 10:45 AM10:15 AM to 10:45 AM | Thursday, August 31on August 31, 2023View all datesView all dates for: Indoor Family StorytimeAlmadenEvent location: AlmadenStorytime is designed to accommodate a mix of ages and invites the entire family to participate in early literacy activities such as stories, songs, rhymes, fingerplays, and movement activities. Storytime is a fun and interactive experience…', 'Almaden Library Crochet & Knitting Circle11:00 AM – 1:00 PM11:00 AM to 1:00 PM | Saturday, September 02on September 2, 2023View all datesView all dates for: Almaden Library Crochet & Knitting CircleAlmadenEvent location: AlmadenDo you enjoy crocheting or\\xa0knitting?\\xa0 Want to see what others are working on, refine your skills, or connect with other crafters?\\xa0Grab your project and join us every week in the Almaden Library living room (behind the Tech…', \"Switch Up Your Saturdays3:00 PM – 5:00 PM3:00 PM to 5:00 PM | Saturday, September 02on September 2, 2023View all datesView all dates for: Switch Up Your SaturdaysAlmadenEvent location: AlmadenDecompress for an hour by playing with our Nintendo Switch. Come with friends or meet new ones. For tweens and teens.\\xa0All attendees will be required to observe the library's Safety Guidelines.\\nTo request an accommodation under the…\", 'After-School STEAM Club at Almaden: Video Editing4:30 PM – 5:30 PM4:30 PM to 5:30 PM | Tuesday, September 05on September 5, 2023View all datesView all dates for: After-School STEAM Club at Almaden: Video EditingAlmadenEvent location: AlmadenLearn to create cool short videos using a free online video editor. Please bring your own laptop and headphones if you can. The library has a limited number of chromebooks that can be borrowed for this program; the library does not have…', 'Indoor Family Storytime10:15 AM – 10:45 AM10:15 AM to 10:45 AM | Thursday, September 07on September 7, 2023View all datesView all dates for: Indoor Family StorytimeAlmadenEvent location: AlmadenStorytime is designed to accommodate a mix of ages and invites the entire family to participate in early literacy activities such as stories, songs, rhymes, fingerplays, and movement activities. Storytime is a fun and interactive experience…', 'Lego Robotics Learning Lab4:30 PM – 5:30 PM4:30 PM to 5:30 PM | Thursday, September 07on September 7, 2023View all datesView all dates for: Lego Robotics Learning LabAlmadenEvent location: AlmadenTeens and tweens (ages 10+) are invited to join us for a series of robotics labs to learn basic engineering and coding with Lego SPIKE Prime!\\xa0\\nThis program is free and suitable for beginners. No prior experience is necessary.…', 'Almaden Library Crochet & Knitting Circle11:00 AM – 1:00 PM11:00 AM to 1:00 PM | Saturday, September 09on September 9, 2023View all datesView all dates for: Almaden Library Crochet & Knitting CircleAlmadenEvent location: AlmadenDo you enjoy crocheting or\\xa0knitting?\\xa0 Want to see what others are working on, refine your skills, or connect with other crafters?\\xa0Grab your project and join us every week in the Almaden Library living room (behind the Tech…', 'Career Vision: Choosing a College and Major2:00 PM – 5:00 PM2:00 PM to 5:00 PM | Saturday, September 09on September 9, 2023AlmadenEvent location: AlmadenThis\\xa0 interactive workshop will help\\xa0teens and parents\\xa0navigate difficult conversations around college and major selection.\\xa0Students and parents will have the opportunity to\\xa0spend time chatting in small groups with…', \"Street Smart: Pedestrian and Bike Safety with Officer Bailey3:00 PM – 4:00 PM3:00 PM to 4:00 PM | Tuesday, September 12on September 12, 2023AlmadenEvent location: AlmadenHosted by the Almaden Branch Library.\\nHave fun and learn about pedestrian and bicycle traffic safety with Officer Cordell Bailey, a Traffic Safety Education Officer from\\u202fSan Jose's\\u202fDepartment of Transportation. This program is focused on…\", 'After-School STEAM Club at Almaden4:30 PM – 5:30 PM4:30 PM to 5:30 PM | Tuesday, September 12on September 12, 2023View all datesView all dates for: After-School STEAM Club at AlmadenAlmadenEvent location: AlmadenDrop in every Tuesday afternoon for a new STEAM adventure, from video editing\\xa0to engineering to science to making.\\xa0\\nSeptember 12\\xa0- Mixing in Math Scavenger HuntUse measuring skills to complete our scavenger hunt. For ages…', \"Readers' Book Club1:00 PM – 2:00 PM1:00 PM to 2:00 PM | Wednesday, September 13on September 13, 2023View all datesView all dates for: Readers' Book ClubAlmadenEvent location: AlmadenJoin our Readers' Book Club where people share their joy of reading.\\xa0 This book club is for you if you wish to expand your reading horizons.\\xa0 We will be reading thought-provoking\\xa0adult fiction of various genres for readers of…\", 'Reading to Furry Friends4:30 PM – 5:30 PM4:30 PM to 5:30 PM | Wednesday, September 13on September 13, 2023View all datesView all dates for: Reading to Furry FriendsAlmadenEvent location: AlmadenTell a story to a Furry Friend!\\nChildren are invited to practice reading to gentle, trained assistance dogs who love books! Practice reading skills while relaxing next to a cute Furry Friend.\\nFree. No registration required.\\nSafety…', 'Indoor Family Storytime10:15 AM – 10:45 AM10:15 AM to 10:45 AM | Thursday, September 14on September 14, 2023View all datesView all dates for: Indoor Family StorytimeAlmadenEvent location: AlmadenStorytime is designed to accommodate a mix of ages and invites the entire family to participate in early literacy activities such as stories, songs, rhymes, fingerplays, and movement activities. Storytime is a fun and interactive experience…', 'Almaden Library Crochet & Knitting Circle11:00 AM – 1:00 PM11:00 AM to 1:00 PM | Saturday, September 16on September 16, 2023View all datesView all dates for: Almaden Library Crochet & Knitting CircleAlmadenEvent location: AlmadenDo you enjoy crocheting or\\xa0knitting?\\xa0 Want to see what others are working on, refine your skills, or connect with other crafters?\\xa0Grab your project and join us every week in the Almaden Library living room (behind the Tech…', \"Switch Up Your Saturdays3:00 PM – 5:00 PM3:00 PM to 5:00 PM | Saturday, September 16on September 16, 2023View all datesView all dates for: Switch Up Your SaturdaysAlmadenEvent location: AlmadenDecompress for an hour by playing with our Nintendo Switch. Come with friends or meet new ones. For tweens and teens.\\xa0All attendees will be required to observe the library's Safety Guidelines.\\nTo request an accommodation under the…\", 'After-School STEAM Club at Almaden4:30 PM – 5:30 PM4:30 PM to 5:30 PM | Tuesday, September 19on September 19, 2023View all datesView all dates for: After-School STEAM Club at AlmadenAlmadenEvent location: AlmadenDrop in every Tuesday afternoon for a new STEAM adventure, from video editing\\xa0to engineering to science to making.\\xa0\\nSeptember 12\\xa0- Mixing in Math Scavenger HuntUse measuring skills to complete our scavenger hunt. For ages…', 'Indoor Family Storytime10:15 AM – 10:45 AM10:15 AM to 10:45 AM | Thursday, September 21on September 21, 2023View all datesView all dates for: Indoor Family StorytimeAlmadenEvent location: AlmadenStorytime is designed to accommodate a mix of ages and invites the entire family to participate in early literacy activities such as stories, songs, rhymes, fingerplays, and movement activities. Storytime is a fun and interactive experience…', 'Lego Robotics Open Lab4:30 PM – 5:30 PM4:30 PM to 5:30 PM | Thursday, September 21on September 21, 2023View all datesView all dates for: Lego Robotics Open LabAlmadenEvent location: AlmadenTeens and tweens ages 10+ who have attended a Robotics Learning Lab\\xa0are invited to join us for a robotics open lab to spend more time learning and coding with Lego SPIKE Prime! The open lab sessions are not structured and participants…', 'Almaden Library Crochet & Knitting Circle11:00 AM – 1:00 PM11:00 AM to 1:00 PM | Saturday, September 23on September 23, 2023View all datesView all dates for: Almaden Library Crochet & Knitting CircleAlmadenEvent location: AlmadenDo you enjoy crocheting or\\xa0knitting?\\xa0 Want to see what others are working on, refine your skills, or connect with other crafters?\\xa0Grab your project and join us every week in the Almaden Library living room (behind the Tech…', 'After-School STEAM Club at Almaden4:30 PM – 5:30 PM4:30 PM to 5:30 PM | Tuesday, September 26on September 26, 2023View all datesView all dates for: After-School STEAM Club at AlmadenAlmadenEvent location: AlmadenDrop in every Tuesday afternoon for a new STEAM adventure, from video editing\\xa0to engineering to science to making.\\xa0\\nSeptember 12\\xa0- Mixing in Math Scavenger HuntUse measuring skills to complete our scavenger hunt. For ages…']\n"
     ]
    }
   ],
   "source": [
    "#pull the website data\n",
    "import requests\n",
    "url = 'https://sjpl.bibliocommons.com/v2/events?locations=10'\n",
    "\n",
    "#making the get request\n",
    "response = requests.get(url)\n",
    "\n",
    "#parsing the data\n",
    "from bs4 import BeautifulSoup\n",
    "soup = BeautifulSoup(response.text, 'html.parser')\n",
    "\n",
    "events=[]\n",
    "linebreak = \"...',\"\n",
    "\n",
    "name = soup.find_all('div', attrs='cp-event-title')\n",
    "date = soup.find_all('div', attrs='cp-event-date')\n",
    "location = soup.find_all('div', attrs='cp-event-location')\n",
    "description = soup.find_all('div', attrs='cp-event-description')\n",
    "\n",
    "for name, date, location, description in zip(name, date, location, description):\n",
    "    events.append(name.text + date.text + location.text + description.text)\n",
    "    \n",
    "\n"
   ]
  }
 ],
 "metadata": {
  "kernelspec": {
   "display_name": "Python 3",
   "language": "python",
   "name": "python3"
  },
  "language_info": {
   "codemirror_mode": {
    "name": "ipython",
    "version": 3
   },
   "file_extension": ".py",
   "mimetype": "text/x-python",
   "name": "python",
   "nbconvert_exporter": "python",
   "pygments_lexer": "ipython3",
   "version": "3.11.3"
  },
  "orig_nbformat": 4
 },
 "nbformat": 4,
 "nbformat_minor": 2
}
